{
 "cells": [
  {
   "cell_type": "code",
   "execution_count": 12,
   "metadata": {
    "collapsed": false
   },
   "outputs": [],
   "source": [
    "path = 'pydata-book-master/ch02/usagov_bitly_data2012-03-16-1331923249.txt'"
   ]
  },
  {
   "cell_type": "code",
   "execution_count": 13,
   "metadata": {
    "collapsed": false
   },
   "outputs": [
    {
     "data": {
      "text/plain": [
       "'{ \"a\": \"Mozilla\\\\/5.0 (Windows NT 6.1; WOW64) AppleWebKit\\\\/535.11 (KHTML, like Gecko) Chrome\\\\/17.0.963.78 Safari\\\\/535.11\", \"c\": \"US\", \"nk\": 1, \"tz\": \"America\\\\/New_York\", \"gr\": \"MA\", \"g\": \"A6qOVH\", \"h\": \"wfLQtf\", \"l\": \"orofrog\", \"al\": \"en-US,en;q=0.8\", \"hh\": \"1.usa.gov\", \"r\": \"http:\\\\/\\\\/www.facebook.com\\\\/l\\\\/7AQEFzjSi\\\\/1.usa.gov\\\\/wfLQtf\", \"u\": \"http:\\\\/\\\\/www.ncbi.nlm.nih.gov\\\\/pubmed\\\\/22415991\", \"t\": 1331923247, \"hc\": 1331822918, \"cy\": \"Danvers\", \"ll\": [ 42.576698, -70.954903 ] }\\n'"
      ]
     },
     "execution_count": 13,
     "metadata": {},
     "output_type": "execute_result"
    }
   ],
   "source": [
    "open(path).readline()"
   ]
  },
  {
   "cell_type": "code",
   "execution_count": 14,
   "metadata": {
    "collapsed": false
   },
   "outputs": [],
   "source": [
    "import json\n",
    "path = 'pydata-book-master/ch02/usagov_bitly_data2012-03-16-1331923249.txt'\n",
    "records=[json.loads(line) for line in open(path)]"
   ]
  },
  {
   "cell_type": "code",
   "execution_count": 15,
   "metadata": {
    "collapsed": false
   },
   "outputs": [
    {
     "data": {
      "text/plain": [
       "{'a': 'Mozilla/5.0 (Windows NT 6.1; WOW64) AppleWebKit/535.11 (KHTML, like Gecko) Chrome/17.0.963.78 Safari/535.11',\n",
       " 'al': 'en-US,en;q=0.8',\n",
       " 'c': 'US',\n",
       " 'cy': 'Danvers',\n",
       " 'g': 'A6qOVH',\n",
       " 'gr': 'MA',\n",
       " 'h': 'wfLQtf',\n",
       " 'hc': 1331822918,\n",
       " 'hh': '1.usa.gov',\n",
       " 'l': 'orofrog',\n",
       " 'll': [42.576698, -70.954903],\n",
       " 'nk': 1,\n",
       " 'r': 'http://www.facebook.com/l/7AQEFzjSi/1.usa.gov/wfLQtf',\n",
       " 't': 1331923247,\n",
       " 'tz': 'America/New_York',\n",
       " 'u': 'http://www.ncbi.nlm.nih.gov/pubmed/22415991'}"
      ]
     },
     "execution_count": 15,
     "metadata": {},
     "output_type": "execute_result"
    }
   ],
   "source": [
    "records[0]"
   ]
  },
  {
   "cell_type": "code",
   "execution_count": 16,
   "metadata": {
    "collapsed": false
   },
   "outputs": [
    {
     "data": {
      "text/plain": [
       "'America/New_York'"
      ]
     },
     "execution_count": 16,
     "metadata": {},
     "output_type": "execute_result"
    }
   ],
   "source": [
    "records[0]['tz']"
   ]
  },
  {
   "cell_type": "code",
   "execution_count": 17,
   "metadata": {
    "collapsed": false
   },
   "outputs": [
    {
     "name": "stdout",
     "output_type": "stream",
     "text": [
      "America/New_York\n"
     ]
    }
   ],
   "source": [
    "print(records[0]['tz'])"
   ]
  },
  {
   "cell_type": "code",
   "execution_count": 18,
   "metadata": {
    "collapsed": true
   },
   "outputs": [],
   "source": [
    "#Counting Time Zones in Pure Python"
   ]
  },
  {
   "cell_type": "code",
   "execution_count": 19,
   "metadata": {
    "collapsed": false
   },
   "outputs": [
    {
     "ename": "KeyError",
     "evalue": "'tz'",
     "output_type": "error",
     "traceback": [
      "\u001b[0;31m---------------------------------------------------------------------------\u001b[0m",
      "\u001b[0;31mKeyError\u001b[0m                                  Traceback (most recent call last)",
      "\u001b[0;32m<ipython-input-19-8e4b2ebabb9c>\u001b[0m in \u001b[0;36m<module>\u001b[0;34m()\u001b[0m\n\u001b[0;32m----> 1\u001b[0;31m \u001b[0mtime_zones\u001b[0m\u001b[0;34m=\u001b[0m\u001b[0;34m[\u001b[0m\u001b[0mrec\u001b[0m\u001b[0;34m[\u001b[0m\u001b[0;34m'tz'\u001b[0m\u001b[0;34m]\u001b[0m \u001b[0;32mfor\u001b[0m \u001b[0mrec\u001b[0m \u001b[0;32min\u001b[0m \u001b[0mrecords\u001b[0m\u001b[0;34m]\u001b[0m\u001b[0;34m\u001b[0m\u001b[0m\n\u001b[0m",
      "\u001b[0;32m<ipython-input-19-8e4b2ebabb9c>\u001b[0m in \u001b[0;36m<listcomp>\u001b[0;34m(.0)\u001b[0m\n\u001b[0;32m----> 1\u001b[0;31m \u001b[0mtime_zones\u001b[0m\u001b[0;34m=\u001b[0m\u001b[0;34m[\u001b[0m\u001b[0mrec\u001b[0m\u001b[0;34m[\u001b[0m\u001b[0;34m'tz'\u001b[0m\u001b[0;34m]\u001b[0m \u001b[0;32mfor\u001b[0m \u001b[0mrec\u001b[0m \u001b[0;32min\u001b[0m \u001b[0mrecords\u001b[0m\u001b[0;34m]\u001b[0m\u001b[0;34m\u001b[0m\u001b[0m\n\u001b[0m",
      "\u001b[0;31mKeyError\u001b[0m: 'tz'"
     ]
    }
   ],
   "source": [
    "time_zones=[rec['tz'] for rec in records]"
   ]
  },
  {
   "cell_type": "code",
   "execution_count": 20,
   "metadata": {
    "collapsed": true
   },
   "outputs": [],
   "source": [
    "time_zones=[rec['tz'] for rec in records if 'tz' in rec]"
   ]
  },
  {
   "cell_type": "code",
   "execution_count": 21,
   "metadata": {
    "collapsed": false
   },
   "outputs": [
    {
     "data": {
      "text/plain": [
       "['America/New_York',\n",
       " 'America/Denver',\n",
       " 'America/New_York',\n",
       " 'America/Sao_Paulo',\n",
       " 'America/New_York',\n",
       " 'America/New_York',\n",
       " 'Europe/Warsaw',\n",
       " '',\n",
       " '',\n",
       " '']"
      ]
     },
     "execution_count": 21,
     "metadata": {},
     "output_type": "execute_result"
    }
   ],
   "source": [
    "time_zones[:10]"
   ]
  },
  {
   "cell_type": "code",
   "execution_count": 22,
   "metadata": {
    "collapsed": true
   },
   "outputs": [],
   "source": [
    "def get_counts(sequence):\n",
    "    counts={}\n",
    "    for x in sequence:\n",
    "        if x in counts:\n",
    "            counts[x]+=1\n",
    "        else:\n",
    "            counts[x]=1\n",
    "    return counts\n",
    "from collections import defaultdict\n",
    "def get_counts2(sequence):\n",
    "    counts=defaultdict(int) #values initialized to 0\n",
    "    for x in sequence:\n",
    "        counts[x]+=1\n",
    "    return counts\n",
    "counts=get_counts(time_zones)"
   ]
  },
  {
   "cell_type": "code",
   "execution_count": 23,
   "metadata": {
    "collapsed": false
   },
   "outputs": [
    {
     "data": {
      "text/plain": [
       "1251"
      ]
     },
     "execution_count": 23,
     "metadata": {},
     "output_type": "execute_result"
    }
   ],
   "source": [
    "counts['America/New_York']"
   ]
  },
  {
   "cell_type": "code",
   "execution_count": 24,
   "metadata": {
    "collapsed": false
   },
   "outputs": [
    {
     "data": {
      "text/plain": [
       "3440"
      ]
     },
     "execution_count": 24,
     "metadata": {},
     "output_type": "execute_result"
    }
   ],
   "source": [
    "len(time_zones)"
   ]
  },
  {
   "cell_type": "code",
   "execution_count": 25,
   "metadata": {
    "collapsed": true
   },
   "outputs": [],
   "source": [
    "def top_counts(count_dict,n=10):\n",
    "    value_key_pairs=[(count,tz) for tz,count in count_dict.items()]\n",
    "    value_key_pairs.sort()\n",
    "    return value_key_pairs[-n:]"
   ]
  },
  {
   "cell_type": "code",
   "execution_count": 26,
   "metadata": {
    "collapsed": false
   },
   "outputs": [
    {
     "data": {
      "text/plain": [
       "[(33, 'America/Sao_Paulo'),\n",
       " (35, 'Europe/Madrid'),\n",
       " (36, 'Pacific/Honolulu'),\n",
       " (37, 'Asia/Tokyo'),\n",
       " (74, 'Europe/London'),\n",
       " (191, 'America/Denver'),\n",
       " (382, 'America/Los_Angeles'),\n",
       " (400, 'America/Chicago'),\n",
       " (521, ''),\n",
       " (1251, 'America/New_York')]"
      ]
     },
     "execution_count": 26,
     "metadata": {},
     "output_type": "execute_result"
    }
   ],
   "source": [
    "top_counts(counts)"
   ]
  },
  {
   "cell_type": "code",
   "execution_count": 28,
   "metadata": {
    "collapsed": false
   },
   "outputs": [
    {
     "data": {
      "text/plain": [
       "[('America/New_York', 1251),\n",
       " ('', 521),\n",
       " ('America/Chicago', 400),\n",
       " ('America/Los_Angeles', 382),\n",
       " ('America/Denver', 191),\n",
       " ('Europe/London', 74),\n",
       " ('Asia/Tokyo', 37),\n",
       " ('Pacific/Honolulu', 36),\n",
       " ('Europe/Madrid', 35),\n",
       " ('America/Sao_Paulo', 33)]"
      ]
     },
     "execution_count": 28,
     "metadata": {},
     "output_type": "execute_result"
    }
   ],
   "source": [
    "from collections import Counter\n",
    "counts=Counter(time_zones)\n",
    "counts.most_common(10)"
   ]
  },
  {
   "cell_type": "code",
   "execution_count": 29,
   "metadata": {
    "collapsed": true
   },
   "outputs": [],
   "source": [
    "from pandas import DataFrame,Series\n",
    "import pandas as pd\n",
    "frame=DataFrame(records)"
   ]
  },
  {
   "cell_type": "code",
   "execution_count": 31,
   "metadata": {
    "collapsed": false
   },
   "outputs": [
    {
     "name": "stdout",
     "output_type": "stream",
     "text": [
      "       _heartbeat_                                                  a  \\\n",
      "0              NaN  Mozilla/5.0 (Windows NT 6.1; WOW64) AppleWebKi...   \n",
      "1              NaN                             GoogleMaps/RochesterNY   \n",
      "2              NaN  Mozilla/4.0 (compatible; MSIE 8.0; Windows NT ...   \n",
      "3              NaN  Mozilla/5.0 (Macintosh; Intel Mac OS X 10_6_8)...   \n",
      "4              NaN  Mozilla/5.0 (Windows NT 6.1; WOW64) AppleWebKi...   \n",
      "5              NaN  Mozilla/5.0 (Windows NT 6.1; WOW64) AppleWebKi...   \n",
      "6              NaN  Mozilla/5.0 (Windows NT 5.1) AppleWebKit/535.1...   \n",
      "7              NaN  Mozilla/5.0 (Windows NT 6.1; rv:2.0.1) Gecko/2...   \n",
      "8              NaN  Opera/9.80 (X11; Linux zbov; U; en) Presto/2.1...   \n",
      "9              NaN  Mozilla/5.0 (Windows NT 6.1; WOW64) AppleWebKi...   \n",
      "10             NaN  Mozilla/5.0 (Windows NT 6.1; WOW64; rv:10.0.2)...   \n",
      "11             NaN  Mozilla/5.0 (Macintosh; U; Intel Mac OS X 10.4...   \n",
      "12             NaN  Mozilla/5.0 (Windows NT 6.1; WOW64; rv:10.0.2)...   \n",
      "13    1.331923e+09                                                NaN   \n",
      "14             NaN  Mozilla/5.0 (Windows; U; Windows NT 6.1; en-US...   \n",
      "15             NaN  Mozilla/5.0 (Windows NT 6.1) AppleWebKit/535.1...   \n",
      "16             NaN  Mozilla/5.0 (Windows NT 6.1) AppleWebKit/535.1...   \n",
      "17             NaN  Mozilla/5.0 (Macintosh; Intel Mac OS X 10.5; r...   \n",
      "18             NaN                             GoogleMaps/RochesterNY   \n",
      "19             NaN  Mozilla/5.0 (Windows NT 6.1; WOW64) AppleWebKi...   \n",
      "20             NaN  Mozilla/5.0 (compatible; MSIE 9.0; Windows NT ...   \n",
      "21             NaN  Mozilla/5.0 (Macintosh; U; Intel Mac OS X 10.6...   \n",
      "22             NaN  Mozilla/4.0 (compatible; MSIE 8.0; Windows NT ...   \n",
      "23             NaN  Mozilla/5.0 (Macintosh; Intel Mac OS X 10_7_3)...   \n",
      "24             NaN  Mozilla/5.0 (Windows; U; Windows NT 5.1; es-ES...   \n",
      "25             NaN  Mozilla/5.0 (Windows NT 6.1) AppleWebKit/535.1...   \n",
      "26             NaN  Mozilla/5.0 (Windows NT 6.1) AppleWebKit/535.1...   \n",
      "27             NaN  Mozilla/5.0 (Macintosh; Intel Mac OS X 10_6_8)...   \n",
      "28             NaN  Mozilla/5.0 (iPad; CPU OS 5_0_1 like Mac OS X)...   \n",
      "29             NaN  Mozilla/5.0 (iPad; U; CPU OS 3_2 like Mac OS X...   \n",
      "...            ...                                                ...   \n",
      "3530           NaN  Mozilla/5.0 (Windows NT 6.0) AppleWebKit/535.1...   \n",
      "3531           NaN  Mozilla/5.0 (Macintosh; U; Intel Mac OS X 10_6...   \n",
      "3532           NaN  Mozilla/5.0 (Windows NT 6.1; WOW64; rv:10.0.2)...   \n",
      "3533           NaN  Mozilla/5.0 (iPad; CPU OS 5_1 like Mac OS X) A...   \n",
      "3534           NaN  Mozilla/5.0 (Macintosh; Intel Mac OS X 10_6_8)...   \n",
      "3535           NaN  Mozilla/5.0 (Windows NT 5.1; rv:10.0.2) Gecko/...   \n",
      "3536           NaN  Mozilla/5.0 (BlackBerry; U; BlackBerry 9800; e...   \n",
      "3537           NaN  Mozilla/5.0 (Windows NT 6.1; WOW64; rv:10.0.2)...   \n",
      "3538           NaN  Mozilla/5.0 (iPhone; CPU iPhone OS 5_1 like Ma...   \n",
      "3539           NaN    Mozilla/5.0 (compatible; Fedora Core 3) FC3 KDE   \n",
      "3540           NaN  Mozilla/5.0 (Windows NT 6.1; WOW64) AppleWebKi...   \n",
      "3541           NaN  Mozilla/5.0 (X11; U; OpenVMS AlphaServer_ES40;...   \n",
      "3542           NaN  Mozilla/5.0 (compatible; MSIE 9.0; Windows NT ...   \n",
      "3543  1.331927e+09                                                NaN   \n",
      "3544           NaN  Mozilla/5.0 (Windows NT 6.1; WOW64; rv:5.0.1) ...   \n",
      "3545           NaN  Mozilla/5.0 (Windows NT 6.1; WOW64; rv:10.0.2)...   \n",
      "3546           NaN  Mozilla/5.0 (iPhone; CPU iPhone OS 5_1 like Ma...   \n",
      "3547           NaN  Mozilla/5.0 (Macintosh; Intel Mac OS X 10_6_8)...   \n",
      "3548           NaN  Mozilla/5.0 (iPhone; CPU iPhone OS 5_1 like Ma...   \n",
      "3549           NaN  Mozilla/5.0 (Windows NT 6.1; WOW64) AppleWebKi...   \n",
      "3550           NaN  Mozilla/4.0 (compatible; MSIE 8.0; Windows NT ...   \n",
      "3551           NaN  Mozilla/5.0 (Windows NT 6.1; WOW64) AppleWebKi...   \n",
      "3552           NaN  Mozilla/5.0 (Windows; U; Windows NT 6.1; en-US...   \n",
      "3553           NaN  Mozilla/4.0 (compatible; MSIE 7.0; Windows NT ...   \n",
      "3554           NaN  Mozilla/4.0 (compatible; MSIE 7.0; Windows NT ...   \n",
      "3555           NaN  Mozilla/4.0 (compatible; MSIE 9.0; Windows NT ...   \n",
      "3556           NaN  Mozilla/5.0 (Windows NT 5.1) AppleWebKit/535.1...   \n",
      "3557           NaN                             GoogleMaps/RochesterNY   \n",
      "3558           NaN                                     GoogleProducer   \n",
      "3559           NaN  Mozilla/4.0 (compatible; MSIE 8.0; Windows NT ...   \n",
      "\n",
      "                                          al     c                cy       g  \\\n",
      "0                             en-US,en;q=0.8    US           Danvers  A6qOVH   \n",
      "1                                        NaN    US             Provo  mwszkS   \n",
      "2                                      en-US    US        Washington  xxr3Qb   \n",
      "3                                      pt-br    BR              Braz  zCaLwp   \n",
      "4                             en-US,en;q=0.8    US        Shrewsbury  9b6kNl   \n",
      "5                             en-US,en;q=0.8    US        Shrewsbury  axNK8c   \n",
      "6        pl-PL,pl;q=0.8,en-US;q=0.6,en;q=0.4    PL             Luban  wcndER   \n",
      "7                    bg,en-us;q=0.7,en;q=0.3  None               NaN  wcndER   \n",
      "8                                  en-US, en  None               NaN  wcndER   \n",
      "9        pt-BR,pt;q=0.8,en-US;q=0.6,en;q=0.4  None               NaN  zCaLwp   \n",
      "10                            en-us,en;q=0.5    US           Seattle  vNJS4H   \n",
      "11                            en-us,en;q=0.5    US        Washington  wG7OIH   \n",
      "12                            en-us,en;q=0.5    US        Alexandria  vNJS4H   \n",
      "13                                       NaN   NaN               NaN     NaN   \n",
      "14                            en-us,en;q=0.5    US          Marietta  2rOUYc   \n",
      "15       zh-TW,zh;q=0.8,en-US;q=0.6,en;q=0.4    HK  Central District  nQvgJp   \n",
      "16       zh-TW,zh;q=0.8,en-US;q=0.6,en;q=0.4    HK  Central District   XdUNr   \n",
      "17                            en-us,en;q=0.5    US         Buckfield  zH1BFf   \n",
      "18                                       NaN    US             Provo  mwszkS   \n",
      "19       it-IT,it;q=0.8,en-US;q=0.6,en;q=0.4    IT            Venice  wcndER   \n",
      "20                                     es-ES    ES             Alcal  zQ95Hi   \n",
      "21                            en-us,en;q=0.5    US     Davidsonville  wcndER   \n",
      "22                                     en-us    US         Hockessin  y3ZImz   \n",
      "23                                     en-us    US            Lititz  wWiOiD   \n",
      "24       es-es,es;q=0.8,en-us;q=0.5,en;q=0.3    ES            Bilbao  wcndER   \n",
      "25    en-GB,en;q=0.8,en-US;q=0.6,en-AU;q=0.4    MY      Kuala Lumpur  wcndER   \n",
      "26       ro-RO,ro;q=0.8,en-US;q=0.6,en;q=0.4    CY           Nicosia  wcndER   \n",
      "27                            en-US,en;q=0.8    BR            SPaulo  zCaLwp   \n",
      "28                                     en-us  None               NaN  vNJS4H   \n",
      "29                                     en-us  None               NaN  FPX0IM   \n",
      "...                                      ...   ...               ...     ...   \n",
      "3530                          en-US,en;q=0.8    US     San Francisco  xVZg4P   \n",
      "3531                                   en-US  None               NaN  wcndER   \n",
      "3532                          en-us,en;q=0.5    US        Washington  Au3aUS   \n",
      "3533                                   en-us    US      Jacksonville  b2UtUJ   \n",
      "3534                                   en-us    US            Frisco  vNJS4H   \n",
      "3535                                   en-us    US           Houston  zIgLx8   \n",
      "3536                          en-US,en;q=0.5  None               NaN  xIcyim   \n",
      "3537     es-es,es;q=0.8,en-us;q=0.5,en;q=0.3    HN       Tegucigalpa  zCaLwp   \n",
      "3538                                   en-us    US       Los Angeles  qMac9k   \n",
      "3539                                     NaN    US          Bellevue  zu2M5o   \n",
      "3540                          en-US,en;q=0.8    US            Payson  wcndER   \n",
      "3541                                     NaN    US          Bellevue  zu2M5o   \n",
      "3542                                   en-us    US         Pittsburg  y3reI1   \n",
      "3543                                     NaN   NaN               NaN     NaN   \n",
      "3544                          en-us,en;q=0.5    US        Wentzville  vNJS4H   \n",
      "3545                          en-us,en;q=0.5    US     Saint Charles  vNJS4H   \n",
      "3546                                   en-us    US       Los Angeles  qMac9k   \n",
      "3547                                   en-us    US     Silver Spring  y0jYkg   \n",
      "3548                                   en-us    US           Mcgehee  y5rMac   \n",
      "3549     sv-SE,sv;q=0.8,en-US;q=0.6,en;q=0.4    SE          Sollefte   eH8wu   \n",
      "3550                                   en-us    US      Conshohocken  A00b72   \n",
      "3551                          en-US,en;q=0.8  None               NaN  wcndER   \n",
      "3552                                     NaN    US           Decatur  rqgJuE   \n",
      "3553                                   en-us    US        Shrewsbury  9b6kNl   \n",
      "3554                                   en-us    US        Shrewsbury  axNK8c   \n",
      "3555                                      en    US           Paramus  e5SvKE   \n",
      "3556                          en-US,en;q=0.8    US     Oklahoma City  jQLtP4   \n",
      "3557                                     NaN    US             Provo  mwszkS   \n",
      "3558                                     NaN    US     Mountain View  zjtI4X   \n",
      "3559                                   en-US    US           Mc Lean  qxKrTK   \n",
      "\n",
      "       gr       h            hc           hh   kw              l  \\\n",
      "0      MA  wfLQtf  1.331823e+09    1.usa.gov  NaN        orofrog   \n",
      "1      UT  mwszkS  1.308262e+09         j.mp  NaN          bitly   \n",
      "2      DC  xxr3Qb  1.331920e+09    1.usa.gov  NaN          bitly   \n",
      "3      27  zUtuOu  1.331923e+09    1.usa.gov  NaN       alelex88   \n",
      "4      MA  9b6kNl  1.273672e+09       bit.ly  NaN          bitly   \n",
      "5      MA  axNK8c  1.273673e+09       bit.ly  NaN          bitly   \n",
      "6      77  zkpJBR  1.331923e+09    1.usa.gov  NaN       bnjacobs   \n",
      "7     NaN  zkpJBR  1.331923e+09    1.usa.gov  NaN       bnjacobs   \n",
      "8     NaN  zkpJBR  1.331923e+09    1.usa.gov  NaN       bnjacobs   \n",
      "9     NaN  zUtuOu  1.331923e+09    1.usa.gov  NaN       alelex88   \n",
      "10     WA  u0uD9q  1.319564e+09    1.usa.gov  NaN   o_4us71ccioa   \n",
      "11     DC  A0nRz4  1.331816e+09    1.usa.gov  NaN    darrellissa   \n",
      "12     VA  u0uD9q  1.319564e+09    1.usa.gov  NaN   o_4us71ccioa   \n",
      "13    NaN     NaN           NaN          NaN  NaN            NaN   \n",
      "14     GA  2rOUYc  1.255770e+09    1.usa.gov  NaN          bitly   \n",
      "15     00  rtrrth  1.317318e+09         j.mp  NaN     walkeryuen   \n",
      "16     00  qWkgbq  1.317318e+09         j.mp  NaN     walkeryuen   \n",
      "17     ME  x3jOIv  1.331840e+09    1.usa.gov  NaN  andyzieminski   \n",
      "18     UT  mwszkS  1.308262e+09    1.usa.gov  NaN          bitly   \n",
      "19     20  zkpJBR  1.331923e+09    1.usa.gov  NaN       bnjacobs   \n",
      "20     51  ytZYWR  1.331671e+09    bitly.com  NaN        jplnews   \n",
      "21     MD  zkpJBR  1.331923e+09    1.usa.gov  NaN       bnjacobs   \n",
      "22     DE  y3ZImz  1.331064e+09    1.usa.gov  NaN          bitly   \n",
      "23     PA  wWiOiD  1.330218e+09    1.usa.gov  NaN          bitly   \n",
      "24     59  zkpJBR  1.331923e+09    1.usa.gov  NaN       bnjacobs   \n",
      "25     14  zkpJBR  1.331923e+09    1.usa.gov  NaN       bnjacobs   \n",
      "26     04  zkpJBR  1.331923e+09    1.usa.gov  NaN       bnjacobs   \n",
      "27     27  zUtuOu  1.331923e+09    1.usa.gov  NaN       alelex88   \n",
      "28    NaN  u0uD9q  1.319564e+09    1.usa.gov  NaN   o_4us71ccioa   \n",
      "29    NaN  FPX0IL  1.331923e+09    1.usa.gov  NaN   twittershare   \n",
      "...   ...     ...           ...          ...  ...            ...   \n",
      "3530   CA  wqUkTo  1.331908e+09  go.nasa.gov  NaN    nasatwitter   \n",
      "3531  NaN  zkpJBR  1.331923e+09    1.usa.gov  NaN       bnjacobs   \n",
      "3532   DC  A9ct6C  1.331926e+09    1.usa.gov  NaN          ncsha   \n",
      "3533   FL  ieCdgH  1.301393e+09  go.nasa.gov  NaN    nasatwitter   \n",
      "3534   TX  u0uD9q  1.319564e+09    1.usa.gov  NaN   o_4us71ccioa   \n",
      "3535   TX  yrPaLt  1.331903e+09      aash.to  NaN         aashto   \n",
      "3536  NaN  yG1TTf  1.331728e+09  go.nasa.gov  NaN    nasatwitter   \n",
      "3537   08  w63FZW  1.331547e+09    1.usa.gov  NaN      bufferapp   \n",
      "3538   CA  qds1Ge  1.310474e+09    1.usa.gov  NaN  healthypeople   \n",
      "3539   WA  zDhdro  1.331586e+09       bit.ly  NaN       glimtwin   \n",
      "3540   UT  zkpJBR  1.331923e+09    1.usa.gov  NaN       bnjacobs   \n",
      "3541   WA  zDhdro  1.331586e+09    1.usa.gov  NaN       glimtwin   \n",
      "3542   CA  y3reI1  1.331926e+09    1.usa.gov  NaN          bitly   \n",
      "3543  NaN     NaN           NaN          NaN  NaN            NaN   \n",
      "3544   MO  u0uD9q  1.319564e+09    1.usa.gov  NaN   o_4us71ccioa   \n",
      "3545   IL  u0uD9q  1.319564e+09    1.usa.gov  NaN   o_4us71ccioa   \n",
      "3546   CA  qds1Ge  1.310474e+09    1.usa.gov  NaN  healthypeople   \n",
      "3547   MD  y0jYkg  1.331852e+09    1.usa.gov  NaN          bitly   \n",
      "3548   AR  xANY6O  1.331916e+09    1.usa.gov  NaN    twitterfeed   \n",
      "3549   24  7dtjei  1.260316e+09    1.usa.gov  NaN   tweetdeckapi   \n",
      "3550   PA  yGSwzn  1.331918e+09    1.usa.gov  NaN        addthis   \n",
      "3551  NaN  zkpJBR  1.331923e+09    1.usa.gov  NaN       bnjacobs   \n",
      "3552   AL  xcz8vt  1.331227e+09    1.usa.gov  NaN      bootsnall   \n",
      "3553   MA  9b6kNl  1.273672e+09       bit.ly  NaN          bitly   \n",
      "3554   MA  axNK8c  1.273673e+09       bit.ly  NaN          bitly   \n",
      "3555   NJ  fqPSr9  1.301298e+09    1.usa.gov  NaN   tweetdeckapi   \n",
      "3556   OK  jQLtP4  1.307530e+09    1.usa.gov  NaN          bitly   \n",
      "3557   UT  mwszkS  1.308262e+09         j.mp  NaN          bitly   \n",
      "3558   CA  zjtI4X  1.327529e+09    1.usa.gov  NaN          bitly   \n",
      "3559   VA  qxKrTK  1.312898e+09    1.usa.gov  NaN          bitly   \n",
      "\n",
      "                            ll   nk  \\\n",
      "0      [42.576698, -70.954903]  1.0   \n",
      "1     [40.218102, -111.613297]  0.0   \n",
      "2        [38.9007, -77.043098]  1.0   \n",
      "3     [-23.549999, -46.616699]  0.0   \n",
      "4      [42.286499, -71.714699]  0.0   \n",
      "5      [42.286499, -71.714699]  0.0   \n",
      "6         [51.116699, 15.2833]  0.0   \n",
      "7                          NaN  0.0   \n",
      "8                          NaN  0.0   \n",
      "9                          NaN  0.0   \n",
      "10      [47.5951, -122.332603]  1.0   \n",
      "11     [38.937599, -77.092796]  0.0   \n",
      "12     [38.790901, -77.094704]  1.0   \n",
      "13                         NaN  NaN   \n",
      "14       [33.953201, -84.5177]  1.0   \n",
      "15       [22.2833, 114.150002]  1.0   \n",
      "16       [22.2833, 114.150002]  1.0   \n",
      "17     [44.299702, -70.369797]  0.0   \n",
      "18    [40.218102, -111.613297]  0.0   \n",
      "19        [45.438599, 12.3267]  0.0   \n",
      "20        [37.516701, -5.9833]  0.0   \n",
      "21     [38.939201, -76.635002]  0.0   \n",
      "22        [39.785, -75.682297]  0.0   \n",
      "23       [40.174999, -76.3078]  0.0   \n",
      "24            [43.25, -2.9667]  0.0   \n",
      "25        [3.1667, 101.699997]  0.0   \n",
      "26      [35.166698, 33.366699]  0.0   \n",
      "27      [-23.5333, -46.616699]  0.0   \n",
      "28                         NaN  0.0   \n",
      "29                         NaN  1.0   \n",
      "...                        ...  ...   \n",
      "3530    [37.7645, -122.429398]  0.0   \n",
      "3531                       NaN  0.0   \n",
      "3532   [38.904202, -77.031998]  1.0   \n",
      "3533   [30.279301, -81.585098]  1.0   \n",
      "3534   [33.149899, -96.855499]  1.0   \n",
      "3535   [29.775499, -95.415199]  1.0   \n",
      "3536                       NaN  0.0   \n",
      "3537        [14.1, -87.216698]  0.0   \n",
      "3538  [34.041599, -118.298798]  0.0   \n",
      "3539  [47.615398, -122.210297]  0.0   \n",
      "3540  [40.014198, -111.738899]  0.0   \n",
      "3541  [47.615398, -122.210297]  0.0   \n",
      "3542    [38.0051, -121.838699]  0.0   \n",
      "3543                       NaN  NaN   \n",
      "3544   [38.790001, -90.854897]  1.0   \n",
      "3545     [41.9352, -88.290901]  1.0   \n",
      "3546  [34.041599, -118.298798]  1.0   \n",
      "3547   [39.052101, -77.014999]  1.0   \n",
      "3548   [33.628399, -91.356903]  1.0   \n",
      "3549    [63.166698, 17.266701]  1.0   \n",
      "3550       [40.0798, -75.2855]  0.0   \n",
      "3551                       NaN  0.0   \n",
      "3552   [34.572701, -86.940598]  0.0   \n",
      "3553   [42.286499, -71.714699]  0.0   \n",
      "3554   [42.286499, -71.714699]  0.0   \n",
      "3555         [40.9445, -74.07]  1.0   \n",
      "3556     [35.4715, -97.518997]  0.0   \n",
      "3557  [40.218102, -111.613297]  0.0   \n",
      "3558  [37.419201, -122.057404]  0.0   \n",
      "3559   [38.935799, -77.162102]  0.0   \n",
      "\n",
      "                                                      r             t  \\\n",
      "0     http://www.facebook.com/l/7AQEFzjSi/1.usa.gov/...  1.331923e+09   \n",
      "1                              http://www.AwareMap.com/  1.331923e+09   \n",
      "2                                  http://t.co/03elZC4Q  1.331923e+09   \n",
      "3                                                direct  1.331923e+09   \n",
      "4                   http://www.shrewsbury-ma.gov/selco/  1.331923e+09   \n",
      "5                   http://www.shrewsbury-ma.gov/selco/  1.331923e+09   \n",
      "6     http://plus.url.google.com/url?sa=z&n=13319232...  1.331923e+09   \n",
      "7                              http://www.facebook.com/  1.331923e+09   \n",
      "8     http://www.facebook.com/l.php?u=http%3A%2F%2F1...  1.331923e+09   \n",
      "9                                  http://t.co/o1Pd0WeV  1.331923e+09   \n",
      "10                                               direct  1.331923e+09   \n",
      "11                                 http://t.co/ND7SoPyo  1.331923e+09   \n",
      "12                                               direct  1.331923e+09   \n",
      "13                                                  NaN           NaN   \n",
      "14                                               direct  1.331923e+09   \n",
      "15    http://forum2.hkgolden.com/view.aspx?type=BW&m...  1.331923e+09   \n",
      "16    http://forum2.hkgolden.com/view.aspx?type=BW&m...  1.331923e+09   \n",
      "17                                 http://t.co/6Cx4ROLs  1.331923e+09   \n",
      "18                             http://www.AwareMap.com/  1.331923e+09   \n",
      "19                             http://www.facebook.com/  1.331923e+09   \n",
      "20                             http://www.facebook.com/  1.331923e+09   \n",
      "21                             http://www.facebook.com/  1.331923e+09   \n",
      "22                                               direct  1.331923e+09   \n",
      "23    http://www.facebook.com/l.php?u=http%3A%2F%2F1...  1.331923e+09   \n",
      "24                             http://www.facebook.com/  1.331923e+09   \n",
      "25                             http://www.facebook.com/  1.331923e+09   \n",
      "26                 http://www.facebook.com/?ref=tn_tnmn  1.331923e+09   \n",
      "27                                               direct  1.331923e+09   \n",
      "28                                               direct  1.331923e+09   \n",
      "29                                 http://t.co/5xlp0B34  1.331923e+09   \n",
      "...                                                 ...           ...   \n",
      "3530  http://www.facebook.com/l.php?u=http%3A%2F%2Fg...  1.331927e+09   \n",
      "3531                                             direct  1.331927e+09   \n",
      "3532                              http://www.ncsha.org/  1.331927e+09   \n",
      "3533                                             direct  1.331927e+09   \n",
      "3534                                             direct  1.331927e+09   \n",
      "3535                                             direct  1.331927e+09   \n",
      "3536                               http://t.co/g1VKE8zS  1.331927e+09   \n",
      "3537                               http://t.co/A8TJyibE  1.331927e+09   \n",
      "3538                                             direct  1.331927e+09   \n",
      "3539                                             direct  1.331927e+09   \n",
      "3540  http://www.facebook.com/l.php?u=http%3A%2F%2F1...  1.331927e+09   \n",
      "3541                                             direct  1.331927e+09   \n",
      "3542  http://www.facebook.com/l.php?u=http%3A%2F%2F1...  1.331927e+09   \n",
      "3543                                                NaN           NaN   \n",
      "3544                                             direct  1.331927e+09   \n",
      "3545                                             direct  1.331927e+09   \n",
      "3546                                             direct  1.331927e+09   \n",
      "3547                                             direct  1.331927e+09   \n",
      "3548  https://twitter.com/fdarecalls/status/18069759...  1.331927e+09   \n",
      "3549                                             direct  1.331927e+09   \n",
      "3550   http://www.linkedin.com/home?trk=hb_tab_home_top  1.331927e+09   \n",
      "3551  http://plus.url.google.com/url?sa=z&n=13319268...  1.331927e+09   \n",
      "3552                                             direct  1.331927e+09   \n",
      "3553                http://www.shrewsbury-ma.gov/selco/  1.331927e+09   \n",
      "3554                http://www.shrewsbury-ma.gov/selco/  1.331927e+09   \n",
      "3555                                             direct  1.331927e+09   \n",
      "3556  http://www.facebook.com/l.php?u=http%3A%2F%2F1...  1.331927e+09   \n",
      "3557                           http://www.AwareMap.com/  1.331927e+09   \n",
      "3558                                             direct  1.331927e+09   \n",
      "3559                               http://t.co/OEEEvwjU  1.331927e+09   \n",
      "\n",
      "                       tz                                                  u  \n",
      "0        America/New_York        http://www.ncbi.nlm.nih.gov/pubmed/22415991  \n",
      "1          America/Denver        http://www.monroecounty.gov/etc/911/rss.php  \n",
      "2        America/New_York  http://boxer.senate.gov/en/press/releases/0316...  \n",
      "3       America/Sao_Paulo            http://apod.nasa.gov/apod/ap120312.html  \n",
      "4        America/New_York  http://www.shrewsbury-ma.gov/egov/gallery/1341...  \n",
      "5        America/New_York  http://www.shrewsbury-ma.gov/egov/gallery/1341...  \n",
      "6           Europe/Warsaw  http://www.nasa.gov/mission_pages/nustar/main/...  \n",
      "7                          http://www.nasa.gov/mission_pages/nustar/main/...  \n",
      "8                          http://www.nasa.gov/mission_pages/nustar/main/...  \n",
      "9                                    http://apod.nasa.gov/apod/ap120312.html  \n",
      "10    America/Los_Angeles  https://www.nysdot.gov/rexdesign/design/commun...  \n",
      "11       America/New_York  http://oversight.house.gov/wp-content/uploads/...  \n",
      "12       America/New_York  https://www.nysdot.gov/rexdesign/design/commun...  \n",
      "13                    NaN                                                NaN  \n",
      "14       America/New_York               http://toxtown.nlm.nih.gov/index.php  \n",
      "15         Asia/Hong_Kong  http://www.ssd.noaa.gov/PS/TROP/TCFP/data/curr...  \n",
      "16         Asia/Hong_Kong  http://www.usno.navy.mil/NOOC/nmfc-ph/RSS/jtwc...  \n",
      "17       America/New_York  http://www.usda.gov/wps/portal/usda/usdahome?c...  \n",
      "18         America/Denver        http://www.monroecounty.gov/etc/911/rss.php  \n",
      "19            Europe/Rome  http://www.nasa.gov/mission_pages/nustar/main/...  \n",
      "20           Africa/Ceuta  http://voyager.jpl.nasa.gov/imagesvideo/uranus...  \n",
      "21       America/New_York  http://www.nasa.gov/mission_pages/nustar/main/...  \n",
      "22       America/New_York  http://portal.hud.gov/hudportal/documents/hudd...  \n",
      "23       America/New_York  http://www.tricare.mil/mybenefit/ProfileFilter...  \n",
      "24          Europe/Madrid  http://www.nasa.gov/mission_pages/nustar/main/...  \n",
      "25      Asia/Kuala_Lumpur  http://www.nasa.gov/mission_pages/nustar/main/...  \n",
      "26           Asia/Nicosia  http://www.nasa.gov/mission_pages/nustar/main/...  \n",
      "27      America/Sao_Paulo            http://apod.nasa.gov/apod/ap120312.html  \n",
      "28                         https://www.nysdot.gov/rexdesign/design/commun...  \n",
      "29                         http://www.ed.gov/news/media-advisories/us-dep...  \n",
      "...                   ...                                                ...  \n",
      "3530  America/Los_Angeles  http://www.nasa.gov/multimedia/imagegallery/im...  \n",
      "3531                       http://www.nasa.gov/mission_pages/nustar/main/...  \n",
      "3532     America/New_York  http://portal.hud.gov/hudportal/HUD?src=/press...  \n",
      "3533     America/New_York                         http://apod.nasa.gov/apod/  \n",
      "3534      America/Chicago  https://www.nysdot.gov/rexdesign/design/commun...  \n",
      "3535      America/Chicago  http://ntl.bts.gov/lib/44000/44300/44374/FHWA-...  \n",
      "3536                       http://www.nasa.gov/mission_pages/hurricanes/a...  \n",
      "3537  America/Tegucigalpa            http://apod.nasa.gov/apod/ap120312.html  \n",
      "3538  America/Los_Angeles  http://healthypeople.gov/2020/connect/webinars...  \n",
      "3539  America/Los_Angeles  http://www.federalreserve.gov/newsevents/press...  \n",
      "3540       America/Denver  http://www.nasa.gov/mission_pages/nustar/main/...  \n",
      "3541  America/Los_Angeles  http://www.federalreserve.gov/newsevents/press...  \n",
      "3542  America/Los_Angeles  http://www.sba.gov/community/blogs/community-b...  \n",
      "3543                  NaN                                                NaN  \n",
      "3544      America/Chicago  https://www.nysdot.gov/rexdesign/design/commun...  \n",
      "3545      America/Chicago  https://www.nysdot.gov/rexdesign/design/commun...  \n",
      "3546  America/Los_Angeles  http://healthypeople.gov/2020/connect/webinars...  \n",
      "3547     America/New_York  http://www.epa.gov/otaq/regs/fuels/additive/e1...  \n",
      "3548      America/Chicago    http://www.fda.gov/Safety/Recalls/ucm296326.htm  \n",
      "3549     Europe/Stockholm  http://www.nasa.gov/mission_pages/WISE/main/in...  \n",
      "3550     America/New_York  http://www.nlm.nih.gov/medlineplus/news/fullst...  \n",
      "3551                       http://www.nasa.gov/mission_pages/nustar/main/...  \n",
      "3552      America/Chicago  http://travel.state.gov/passport/passport_5535...  \n",
      "3553     America/New_York  http://www.shrewsbury-ma.gov/egov/gallery/1341...  \n",
      "3554     America/New_York  http://www.shrewsbury-ma.gov/egov/gallery/1341...  \n",
      "3555     America/New_York  http://www.fda.gov/AdvisoryCommittees/Committe...  \n",
      "3556      America/Chicago  http://www.okc.gov/PublicNotificationSystem/Fo...  \n",
      "3557       America/Denver        http://www.monroecounty.gov/etc/911/rss.php  \n",
      "3558  America/Los_Angeles                http://www.ahrq.gov/qual/qitoolkit/  \n",
      "3559     America/New_York  http://herndon-va.gov/Content/public_safety/Pu...  \n",
      "\n",
      "[3560 rows x 18 columns]\n"
     ]
    }
   ],
   "source": [
    "print(frame)"
   ]
  },
  {
   "cell_type": "code",
   "execution_count": 32,
   "metadata": {
    "collapsed": false
   },
   "outputs": [
    {
     "data": {
      "text/plain": [
       "0     America/New_York\n",
       "1       America/Denver\n",
       "2     America/New_York\n",
       "3    America/Sao_Paulo\n",
       "4     America/New_York\n",
       "5     America/New_York\n",
       "6        Europe/Warsaw\n",
       "7                     \n",
       "8                     \n",
       "9                     \n",
       "Name: tz, dtype: object"
      ]
     },
     "execution_count": 32,
     "metadata": {},
     "output_type": "execute_result"
    }
   ],
   "source": [
    "frame['tz'][:10]"
   ]
  },
  {
   "cell_type": "code",
   "execution_count": 33,
   "metadata": {
    "collapsed": true
   },
   "outputs": [],
   "source": [
    "tz_counts=frame['tz'].value_counts()"
   ]
  },
  {
   "cell_type": "code",
   "execution_count": 35,
   "metadata": {
    "collapsed": false
   },
   "outputs": [
    {
     "data": {
      "text/plain": [
       "America/New_York       1251\n",
       "                        521\n",
       "America/Chicago         400\n",
       "America/Los_Angeles     382\n",
       "America/Denver          191\n",
       "Europe/London            74\n",
       "Asia/Tokyo               37\n",
       "Pacific/Honolulu         36\n",
       "Europe/Madrid            35\n",
       "America/Sao_Paulo        33\n",
       "Name: tz, dtype: int64"
      ]
     },
     "execution_count": 35,
     "metadata": {},
     "output_type": "execute_result"
    }
   ],
   "source": [
    "tz_counts[:10]"
   ]
  },
  {
   "cell_type": "code",
   "execution_count": 36,
   "metadata": {
    "collapsed": false
   },
   "outputs": [
    {
     "data": {
      "text/plain": [
       "America/New_York       1251\n",
       "Unknown                 521\n",
       "America/Chicago         400\n",
       "America/Los_Angeles     382\n",
       "America/Denver          191\n",
       "Missing                 120\n",
       "Europe/London            74\n",
       "Asia/Tokyo               37\n",
       "Pacific/Honolulu         36\n",
       "Europe/Madrid            35\n",
       "Name: tz, dtype: int64"
      ]
     },
     "execution_count": 36,
     "metadata": {},
     "output_type": "execute_result"
    }
   ],
   "source": [
    "cleandata_tz=frame['tz'].fillna(\"Missing\")\n",
    "cleandata_tz[cleandata_tz=='']='Unknown'\n",
    "tz_counts=cleandata_tz.value_counts()\n",
    "tz_counts[:10]"
   ]
  },
  {
   "cell_type": "code",
   "execution_count": 37,
   "metadata": {
    "collapsed": true
   },
   "outputs": [],
   "source": [
    "#plot"
   ]
  },
  {
   "cell_type": "code",
   "execution_count": 38,
   "metadata": {
    "collapsed": false
   },
   "outputs": [
    {
     "data": {
      "text/plain": [
       "<matplotlib.axes._subplots.AxesSubplot at 0x112cc46a0>"
      ]
     },
     "execution_count": 38,
     "metadata": {},
     "output_type": "execute_result"
    }
   ],
   "source": [
    "tz_counts[:10].plot(kind='bar',rot=0)"
   ]
  },
  {
   "cell_type": "code",
   "execution_count": 41,
   "metadata": {
    "collapsed": false
   },
   "outputs": [
    {
     "data": {
      "text/plain": [
       "'GoogleMaps/RochesterNY'"
      ]
     },
     "execution_count": 41,
     "metadata": {},
     "output_type": "execute_result"
    }
   ],
   "source": [
    "frame[\"a\"][1]"
   ]
  },
  {
   "cell_type": "code",
   "execution_count": 42,
   "metadata": {
    "collapsed": false
   },
   "outputs": [
    {
     "name": "stdout",
     "output_type": "stream",
     "text": [
      "Mozilla/5.0 (Windows NT 5.1; rv:10.0.2) Gecko/20100101 Firefox/10.0.2\n"
     ]
    }
   ],
   "source": [
    "print(frame['a'][50])"
   ]
  },
  {
   "cell_type": "code",
   "execution_count": 43,
   "metadata": {
    "collapsed": false
   },
   "outputs": [
    {
     "data": {
      "text/plain": [
       "0               Mozilla/5.0\n",
       "1    GoogleMaps/RochesterNY\n",
       "2               Mozilla/4.0\n",
       "3               Mozilla/5.0\n",
       "4               Mozilla/5.0\n",
       "dtype: object"
      ]
     },
     "execution_count": 43,
     "metadata": {},
     "output_type": "execute_result"
    }
   ],
   "source": [
    "results=Series([x.split()[0] for x in frame.a.dropna()])\n",
    "results[:5]"
   ]
  },
  {
   "cell_type": "code",
   "execution_count": 44,
   "metadata": {
    "collapsed": false
   },
   "outputs": [
    {
     "data": {
      "text/plain": [
       "Mozilla/5.0                 2594\n",
       "Mozilla/4.0                  601\n",
       "GoogleMaps/RochesterNY       121\n",
       "Opera/9.80                    34\n",
       "TEST_INTERNET_AGENT           24\n",
       "GoogleProducer                21\n",
       "Mozilla/6.0                    5\n",
       "BlackBerry8520/5.0.0.681       4\n",
       "dtype: int64"
      ]
     },
     "execution_count": 44,
     "metadata": {},
     "output_type": "execute_result"
    }
   ],
   "source": [
    "results.value_counts()[:8]"
   ]
  },
  {
   "cell_type": "code",
   "execution_count": 45,
   "metadata": {
    "collapsed": true
   },
   "outputs": [],
   "source": [
    "cframe=frame[frame.a.notnull()]"
   ]
  },
  {
   "cell_type": "code",
   "execution_count": 47,
   "metadata": {
    "collapsed": false
   },
   "outputs": [
    {
     "data": {
      "text/plain": [
       "array(['Windows', 'Not Windows', 'Windows', 'Not Windows', 'Windows'], \n",
       "      dtype='<U11')"
      ]
     },
     "execution_count": 47,
     "metadata": {},
     "output_type": "execute_result"
    }
   ],
   "source": [
    "import numpy as np\n",
    "operating_system=np.where(cframe['a'].str.contains('Windows'),'Windows','Not Windows')\n",
    "operating_system[:5]"
   ]
  },
  {
   "cell_type": "code",
   "execution_count": 48,
   "metadata": {
    "collapsed": true
   },
   "outputs": [],
   "source": [
    "by_tz_os=cframe.groupby(['tz',operating_system])"
   ]
  },
  {
   "cell_type": "code",
   "execution_count": 49,
   "metadata": {
    "collapsed": false
   },
   "outputs": [
    {
     "data": {
      "text/html": [
       "<div>\n",
       "<table border=\"1\" class=\"dataframe\">\n",
       "  <thead>\n",
       "    <tr style=\"text-align: right;\">\n",
       "      <th></th>\n",
       "      <th>Not Windows</th>\n",
       "      <th>Windows</th>\n",
       "    </tr>\n",
       "    <tr>\n",
       "      <th>tz</th>\n",
       "      <th></th>\n",
       "      <th></th>\n",
       "    </tr>\n",
       "  </thead>\n",
       "  <tbody>\n",
       "    <tr>\n",
       "      <th></th>\n",
       "      <td>245.0</td>\n",
       "      <td>276.0</td>\n",
       "    </tr>\n",
       "    <tr>\n",
       "      <th>Africa/Cairo</th>\n",
       "      <td>0.0</td>\n",
       "      <td>3.0</td>\n",
       "    </tr>\n",
       "    <tr>\n",
       "      <th>Africa/Casablanca</th>\n",
       "      <td>0.0</td>\n",
       "      <td>1.0</td>\n",
       "    </tr>\n",
       "    <tr>\n",
       "      <th>Africa/Ceuta</th>\n",
       "      <td>0.0</td>\n",
       "      <td>2.0</td>\n",
       "    </tr>\n",
       "    <tr>\n",
       "      <th>Africa/Johannesburg</th>\n",
       "      <td>0.0</td>\n",
       "      <td>1.0</td>\n",
       "    </tr>\n",
       "    <tr>\n",
       "      <th>Africa/Lusaka</th>\n",
       "      <td>0.0</td>\n",
       "      <td>1.0</td>\n",
       "    </tr>\n",
       "    <tr>\n",
       "      <th>America/Anchorage</th>\n",
       "      <td>4.0</td>\n",
       "      <td>1.0</td>\n",
       "    </tr>\n",
       "    <tr>\n",
       "      <th>America/Argentina/Buenos_Aires</th>\n",
       "      <td>1.0</td>\n",
       "      <td>0.0</td>\n",
       "    </tr>\n",
       "    <tr>\n",
       "      <th>America/Argentina/Cordoba</th>\n",
       "      <td>0.0</td>\n",
       "      <td>1.0</td>\n",
       "    </tr>\n",
       "    <tr>\n",
       "      <th>America/Argentina/Mendoza</th>\n",
       "      <td>0.0</td>\n",
       "      <td>1.0</td>\n",
       "    </tr>\n",
       "  </tbody>\n",
       "</table>\n",
       "</div>"
      ],
      "text/plain": [
       "                                Not Windows  Windows\n",
       "tz                                                  \n",
       "                                      245.0    276.0\n",
       "Africa/Cairo                            0.0      3.0\n",
       "Africa/Casablanca                       0.0      1.0\n",
       "Africa/Ceuta                            0.0      2.0\n",
       "Africa/Johannesburg                     0.0      1.0\n",
       "Africa/Lusaka                           0.0      1.0\n",
       "America/Anchorage                       4.0      1.0\n",
       "America/Argentina/Buenos_Aires          1.0      0.0\n",
       "America/Argentina/Cordoba               0.0      1.0\n",
       "America/Argentina/Mendoza               0.0      1.0"
      ]
     },
     "execution_count": 49,
     "metadata": {},
     "output_type": "execute_result"
    }
   ],
   "source": [
    "agg_counts=by_tz_os.size().unstack().fillna(0)\n",
    "agg_counts[:10]"
   ]
  },
  {
   "cell_type": "code",
   "execution_count": 51,
   "metadata": {
    "collapsed": false
   },
   "outputs": [
    {
     "data": {
      "text/plain": [
       "tz\n",
       "                                  24\n",
       "Africa/Cairo                      20\n",
       "Africa/Casablanca                 21\n",
       "Africa/Ceuta                      92\n",
       "Africa/Johannesburg               87\n",
       "Africa/Lusaka                     53\n",
       "America/Anchorage                 54\n",
       "America/Argentina/Buenos_Aires    57\n",
       "America/Argentina/Cordoba         26\n",
       "America/Argentina/Mendoza         55\n",
       "dtype: int64"
      ]
     },
     "execution_count": 51,
     "metadata": {},
     "output_type": "execute_result"
    }
   ],
   "source": [
    "indexer=agg_counts.sum(1).argsort()\n",
    "indexer[:10]\n"
   ]
  },
  {
   "cell_type": "code",
   "execution_count": 52,
   "metadata": {
    "collapsed": false
   },
   "outputs": [
    {
     "data": {
      "text/html": [
       "<div>\n",
       "<table border=\"1\" class=\"dataframe\">\n",
       "  <thead>\n",
       "    <tr style=\"text-align: right;\">\n",
       "      <th></th>\n",
       "      <th>Not Windows</th>\n",
       "      <th>Windows</th>\n",
       "    </tr>\n",
       "    <tr>\n",
       "      <th>tz</th>\n",
       "      <th></th>\n",
       "      <th></th>\n",
       "    </tr>\n",
       "  </thead>\n",
       "  <tbody>\n",
       "    <tr>\n",
       "      <th>America/Sao_Paulo</th>\n",
       "      <td>13.0</td>\n",
       "      <td>20.0</td>\n",
       "    </tr>\n",
       "    <tr>\n",
       "      <th>Europe/Madrid</th>\n",
       "      <td>16.0</td>\n",
       "      <td>19.0</td>\n",
       "    </tr>\n",
       "    <tr>\n",
       "      <th>Pacific/Honolulu</th>\n",
       "      <td>0.0</td>\n",
       "      <td>36.0</td>\n",
       "    </tr>\n",
       "    <tr>\n",
       "      <th>Asia/Tokyo</th>\n",
       "      <td>2.0</td>\n",
       "      <td>35.0</td>\n",
       "    </tr>\n",
       "    <tr>\n",
       "      <th>Europe/London</th>\n",
       "      <td>43.0</td>\n",
       "      <td>31.0</td>\n",
       "    </tr>\n",
       "    <tr>\n",
       "      <th>America/Denver</th>\n",
       "      <td>132.0</td>\n",
       "      <td>59.0</td>\n",
       "    </tr>\n",
       "    <tr>\n",
       "      <th>America/Los_Angeles</th>\n",
       "      <td>130.0</td>\n",
       "      <td>252.0</td>\n",
       "    </tr>\n",
       "    <tr>\n",
       "      <th>America/Chicago</th>\n",
       "      <td>115.0</td>\n",
       "      <td>285.0</td>\n",
       "    </tr>\n",
       "    <tr>\n",
       "      <th></th>\n",
       "      <td>245.0</td>\n",
       "      <td>276.0</td>\n",
       "    </tr>\n",
       "    <tr>\n",
       "      <th>America/New_York</th>\n",
       "      <td>339.0</td>\n",
       "      <td>912.0</td>\n",
       "    </tr>\n",
       "  </tbody>\n",
       "</table>\n",
       "</div>"
      ],
      "text/plain": [
       "                     Not Windows  Windows\n",
       "tz                                       \n",
       "America/Sao_Paulo           13.0     20.0\n",
       "Europe/Madrid               16.0     19.0\n",
       "Pacific/Honolulu             0.0     36.0\n",
       "Asia/Tokyo                   2.0     35.0\n",
       "Europe/London               43.0     31.0\n",
       "America/Denver             132.0     59.0\n",
       "America/Los_Angeles        130.0    252.0\n",
       "America/Chicago            115.0    285.0\n",
       "                           245.0    276.0\n",
       "America/New_York           339.0    912.0"
      ]
     },
     "execution_count": 52,
     "metadata": {},
     "output_type": "execute_result"
    }
   ],
   "source": [
    "count_subset=agg_counts.take(indexer[-10:])\n",
    "count_subset"
   ]
  },
  {
   "cell_type": "code",
   "execution_count": 56,
   "metadata": {
    "collapsed": false
   },
   "outputs": [],
   "source": [
    "import matplotlib.pyplot as plt"
   ]
  },
  {
   "cell_type": "code",
   "execution_count": 61,
   "metadata": {
    "collapsed": false
   },
   "outputs": [],
   "source": [
    "my_plot=count_subset[:10].plot(kind='barh',stacked=True)\n"
   ]
  },
  {
   "cell_type": "code",
   "execution_count": 62,
   "metadata": {
    "collapsed": false
   },
   "outputs": [
    {
     "data": {
      "text/plain": [
       "<matplotlib.axes._subplots.AxesSubplot at 0x11617fc88>"
      ]
     },
     "execution_count": 62,
     "metadata": {},
     "output_type": "execute_result"
    }
   ],
   "source": [
    "my_plot"
   ]
  },
  {
   "cell_type": "code",
   "execution_count": 63,
   "metadata": {
    "collapsed": true
   },
   "outputs": [],
   "source": [
    "normed_subset=count_subset.div(count_subset.sum(1),axis=0)"
   ]
  },
  {
   "cell_type": "code",
   "execution_count": 64,
   "metadata": {
    "collapsed": false
   },
   "outputs": [
    {
     "data": {
      "text/plain": [
       "<matplotlib.axes._subplots.AxesSubplot at 0x11632ba20>"
      ]
     },
     "execution_count": 64,
     "metadata": {},
     "output_type": "execute_result"
    }
   ],
   "source": [
    "normed_subset.plot(kind='barh',stacked=True)"
   ]
  },
  {
   "cell_type": "code",
   "execution_count": null,
   "metadata": {
    "collapsed": true
   },
   "outputs": [],
   "source": []
  }
 ],
 "metadata": {
  "anaconda-cloud": {},
  "kernelspec": {
   "display_name": "Python [default]",
   "language": "python",
   "name": "python3"
  },
  "language_info": {
   "codemirror_mode": {
    "name": "ipython",
    "version": 3
   },
   "file_extension": ".py",
   "mimetype": "text/x-python",
   "name": "python",
   "nbconvert_exporter": "python",
   "pygments_lexer": "ipython3",
   "version": "3.5.2"
  }
 },
 "nbformat": 4,
 "nbformat_minor": 1
}
